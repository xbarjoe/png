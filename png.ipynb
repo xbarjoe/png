{
 "cells": [
  {
   "cell_type": "code",
   "execution_count": 1,
   "metadata": {},
   "outputs": [],
   "source": [
    "from graphics import *\n",
    "import random\n",
    "import textwrap\n",
    "import numpy as np"
   ]
  },
  {
   "cell_type": "code",
   "execution_count": 2,
   "metadata": {},
   "outputs": [],
   "source": [
    "win=GraphWin('Probabilistic Picture Generator',500,500,autoflush=False)"
   ]
  },
  {
   "cell_type": "code",
   "execution_count": 3,
   "metadata": {},
   "outputs": [],
   "source": [
    "def getSeeds(seed):\n",
    "    seeds=[]\n",
    "    temp = textwrap.wrap(seed, int(len(seed)/3))\n",
    "    for i in range (0,3):\n",
    "        seeds.append(int(temp[i])%256)\n",
    "    return seeds"
   ]
  },
  {
   "cell_type": "code",
   "execution_count": 4,
   "metadata": {
    "scrolled": false
   },
   "outputs": [
    {
     "name": "stdout",
     "output_type": "stream",
     "text": [
      "Enter an integer seed: 76587548643\n",
      "Generating...\n",
      "Done!\n"
     ]
    },
    {
     "ename": "GraphicsError",
     "evalue": "getMouse in closed window",
     "output_type": "error",
     "traceback": [
      "\u001b[0;31m---------------------------------------------------------------------------\u001b[0m",
      "\u001b[0;31mGraphicsError\u001b[0m                             Traceback (most recent call last)",
      "\u001b[0;32m<ipython-input-4-b6bbc4c6ce6e>\u001b[0m in \u001b[0;36m<module>\u001b[0;34m\u001b[0m\n\u001b[1;32m     46\u001b[0m         \u001b[0mpt\u001b[0m\u001b[0;34m.\u001b[0m\u001b[0mdraw\u001b[0m\u001b[0;34m(\u001b[0m\u001b[0mwin\u001b[0m\u001b[0;34m)\u001b[0m\u001b[0;34m\u001b[0m\u001b[0m\n\u001b[1;32m     47\u001b[0m \u001b[0mprint\u001b[0m\u001b[0;34m(\u001b[0m\u001b[0;34m\"Done!\"\u001b[0m\u001b[0;34m)\u001b[0m\u001b[0;34m\u001b[0m\u001b[0m\n\u001b[0;32m---> 48\u001b[0;31m \u001b[0mwin\u001b[0m\u001b[0;34m.\u001b[0m\u001b[0mgetMouse\u001b[0m\u001b[0;34m(\u001b[0m\u001b[0;34m)\u001b[0m\u001b[0;34m\u001b[0m\u001b[0m\n\u001b[0m\u001b[1;32m     49\u001b[0m \u001b[0mwin\u001b[0m\u001b[0;34m.\u001b[0m\u001b[0mclose\u001b[0m\u001b[0;34m(\u001b[0m\u001b[0;34m)\u001b[0m\u001b[0;34m\u001b[0m\u001b[0m\n",
      "\u001b[0;32m~/Desktop/projects/ppg/graphics.py\u001b[0m in \u001b[0;36mgetMouse\u001b[0;34m(self)\u001b[0m\n\u001b[1;32m    314\u001b[0m         \u001b[0;32mwhile\u001b[0m \u001b[0mself\u001b[0m\u001b[0;34m.\u001b[0m\u001b[0mmouseX\u001b[0m \u001b[0;34m==\u001b[0m \u001b[0;32mNone\u001b[0m \u001b[0;32mor\u001b[0m \u001b[0mself\u001b[0m\u001b[0;34m.\u001b[0m\u001b[0mmouseY\u001b[0m \u001b[0;34m==\u001b[0m \u001b[0;32mNone\u001b[0m\u001b[0;34m:\u001b[0m\u001b[0;34m\u001b[0m\u001b[0m\n\u001b[1;32m    315\u001b[0m             \u001b[0mself\u001b[0m\u001b[0;34m.\u001b[0m\u001b[0mupdate\u001b[0m\u001b[0;34m(\u001b[0m\u001b[0;34m)\u001b[0m\u001b[0;34m\u001b[0m\u001b[0m\n\u001b[0;32m--> 316\u001b[0;31m             \u001b[0;32mif\u001b[0m \u001b[0mself\u001b[0m\u001b[0;34m.\u001b[0m\u001b[0misClosed\u001b[0m\u001b[0;34m(\u001b[0m\u001b[0;34m)\u001b[0m\u001b[0;34m:\u001b[0m \u001b[0;32mraise\u001b[0m \u001b[0mGraphicsError\u001b[0m\u001b[0;34m(\u001b[0m\u001b[0;34m\"getMouse in closed window\"\u001b[0m\u001b[0;34m)\u001b[0m\u001b[0;34m\u001b[0m\u001b[0m\n\u001b[0m\u001b[1;32m    317\u001b[0m             \u001b[0mtime\u001b[0m\u001b[0;34m.\u001b[0m\u001b[0msleep\u001b[0m\u001b[0;34m(\u001b[0m\u001b[0;36m.1\u001b[0m\u001b[0;34m)\u001b[0m \u001b[0;31m# give up thread\u001b[0m\u001b[0;34m\u001b[0m\u001b[0m\n\u001b[1;32m    318\u001b[0m         \u001b[0mx\u001b[0m\u001b[0;34m,\u001b[0m\u001b[0my\u001b[0m \u001b[0;34m=\u001b[0m \u001b[0mself\u001b[0m\u001b[0;34m.\u001b[0m\u001b[0mtoWorld\u001b[0m\u001b[0;34m(\u001b[0m\u001b[0mself\u001b[0m\u001b[0;34m.\u001b[0m\u001b[0mmouseX\u001b[0m\u001b[0;34m,\u001b[0m \u001b[0mself\u001b[0m\u001b[0;34m.\u001b[0m\u001b[0mmouseY\u001b[0m\u001b[0;34m)\u001b[0m\u001b[0;34m\u001b[0m\u001b[0m\n",
      "\u001b[0;31mGraphicsError\u001b[0m: getMouse in closed window"
     ]
    }
   ],
   "source": [
    "seed = str(input(\"Enter an integer seed: \"))\n",
    "seedList = getSeeds(seed)\n",
    "r_prev = seedList[0]\n",
    "g_prev = seedList[1]\n",
    "b_prev = seedList[2]\n",
    "coef = [-1,1]\n",
    "matrix = np.zeros((500,500,3))\n",
    "print(\"Generating...\")\n",
    "win.update()\n",
    "for i in range(0,500):\n",
    "    for j in range(0,500):\n",
    "        pt = Point(i, j)\n",
    "        if i == 0 & j == 0:\n",
    "            r = r_prev\n",
    "            g = g_prev\n",
    "            b = b_prev\n",
    "        elif i >= 1 & j >= 1:\n",
    "            r = (matrix[i-1][j-1][0]+matrix[i-1][j][0]+matrix[i][j-1][0])/3 + (random.choice(coef))\n",
    "            g = (matrix[i-1][j-1][1]+matrix[i-1][j][1]+matrix[i][j-1][1])/3 + (random.choice(coef))\n",
    "            b = (matrix[i-1][j-1][2]+matrix[i-1][j][2]+matrix[i][j-1][2])/3 + (random.choice(coef))            \n",
    "        elif i == 0 & j != 0:\n",
    "            r = matrix[i][j-1][0]/2 + (random.choice(coef)*1)\n",
    "            g = matrix[i][j-1][1]/2 + (random.choice(coef)*1)\n",
    "            b = matrix[i][j-1][2]/2 + (random.choice(coef)*1)\n",
    "        elif i != 0 & j == 0:\n",
    "            r = matrix[i-1][j][0]/2 + (random.choice(coef)*1)\n",
    "            g = matrix[i-1][j][1]/2 + (random.choice(coef)*1)\n",
    "            b = matrix[i-1][j][2]/2 + (random.choice(coef)*1)\n",
    "        if r <= 30:\n",
    "            r = ((r_prev+matrix[i-1][j-1][0]+matrix[i-1][j][0]+matrix[i][j-1][0])/4)\n",
    "        if r >= 256:\n",
    "            r = 255\n",
    "        if g <= 30:\n",
    "            g = ((g_prev+matrix[i-1][j-1][1]+matrix[i-1][j][1]+matrix[i][j-1][1])/4)\n",
    "        if g >= 256:\n",
    "            g = 255\n",
    "        if b <= 30:\n",
    "            b = ((b_prev+matrix[i-1][j-1][2]+matrix[i-1][j][2]+matrix[i][j-1][2])/4)\n",
    "        if b >= 256:\n",
    "            b = 255\n",
    "        color = color_rgb(int(r), int(g), int(b))\n",
    "        matrix[i][j][0] = r\n",
    "        matrix[i][j][1] = g \n",
    "        matrix[i][j][2] = b\n",
    "        pt.setFill(color)\n",
    "        pt.draw(win)\n",
    "print(\"Done!\")\n",
    "win.getMouse()\n",
    "win.close()"
   ]
  },
  {
   "cell_type": "code",
   "execution_count": null,
   "metadata": {},
   "outputs": [],
   "source": []
  },
  {
   "cell_type": "code",
   "execution_count": null,
   "metadata": {},
   "outputs": [],
   "source": []
  },
  {
   "cell_type": "code",
   "execution_count": null,
   "metadata": {},
   "outputs": [],
   "source": []
  },
  {
   "cell_type": "code",
   "execution_count": null,
   "metadata": {},
   "outputs": [],
   "source": []
  }
 ],
 "metadata": {
  "kernelspec": {
   "display_name": "Python 3",
   "language": "python",
   "name": "python3"
  },
  "language_info": {
   "codemirror_mode": {
    "name": "ipython",
    "version": 3
   },
   "file_extension": ".py",
   "mimetype": "text/x-python",
   "name": "python",
   "nbconvert_exporter": "python",
   "pygments_lexer": "ipython3",
   "version": "3.7.0"
  }
 },
 "nbformat": 4,
 "nbformat_minor": 2
}
